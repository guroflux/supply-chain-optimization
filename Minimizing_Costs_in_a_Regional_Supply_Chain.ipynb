{
 "cells": [
  {
   "cell_type": "markdown",
   "id": "84a952d9-8db9-4d36-8b66-02e1da48e26f",
   "metadata": {},
   "source": [
    "# Minimizing Shipping Costs in a Regional Supply Chain \n",
    "\n",
    "## Problem Description\n",
    "\n",
    "A tech manufacturer in the Bay Area operates two factories in San Jose and Oakland, supplying products to six major customers across the region. To efficiently distribute products, the network includes four strategically located depots in Palo Alto, Fremont, San Francisco, and Santa Cruz. Each depot has a maximum throughput, and each factory has a production capacity limit. Shipping products incurs costs that vary depending on the source and destination. \n",
    "\n",
    "\n",
    "Our supply network has two factories, in San Jose and Oakland, that produce a product. Each has a maximum production capacity:\n",
    "\n",
    "| Factory | Supply (tons) |\n",
    "| --- | --- |\n",
    "| San Jose | 160,000 |\n",
    "| Oakland |  210,000 |\n",
    "\n",
    "Factory output is routed through four depots, each limited by throughput capacity. Depots act as intermediaries, they do not produce or consume goods but serve to efficiently channel products to customers.\n",
    "\n",
    "| Depot | Throughput (tons) |\n",
    "| --- | --- |\n",
    "| Palo Alto | 75,000 |\n",
    "| Fremont | 55,000 |\n",
    "| San Francisco | 110,000 |\n",
    "| Santa Cruz | 45,000 |\n",
    "\n",
    "Our network has six customers, each with a given demand.\n",
    "\n",
    "| Customer | Demand (tons) |\n",
    "| --- | --- |\n",
    "| C1 | 60,000 |\n",
    "| C2 | 15,000 |\n",
    "| C3 | 45,000 |\n",
    "| C4 | 30,000 |\n",
    "| C5 | 65,000 |\n",
    "| C6 | 25,000 |\n",
    "\n",
    "Shipping costs (in dollars per ton) are provided in the table below. Columns represent source location and rows represent destinations. For example, shipping from San Jose to SF costs $1.20 per ton. A dash (–) indicates that a shipment along that route is not possible (e.g., Oakland cannot ship directly to Palo Alto).\n",
    "\n",
    "\n",
    "| To   | San Jose | Oakland | Palo Alto | Fremont | San Francisco | Santa Cruz |\n",
    "|--------------|-----------|----------|------------|-----------|----------------|-------------|\n",
    "| **Depots**   |           |          |            |           |                |             |\n",
    "| Palo Alto    | 0.6       | -        |            |           |                |             |\n",
    "| Fremont      | 0.6       | 0.36     |            |           |                |             |\n",
    "| SF           | 1.2       | 0.6      |            |           |                |             |\n",
    "| Santa Cruz   | 0.24      | 0.24     |            |           |                |             |\n",
    "| **Customers**|           |          |            |           |                |             |\n",
    "| C1           | 1.2       | 2.4      | -          | 1.2       | -              | -           |\n",
    "| C2           | -         | -        | 1.8        | 0.6       | 1.8            | -           |\n",
    "| C3           | 1.8       | -        | 0.6        | 0.6       | 2.4            | 0.24        |\n",
    "| C4           | 2.4       | -        | 1.8        | 1.2       | -              | 1.8         |\n",
    "| C5           | -         | -        | -          | 0.6       | 0.6            | 0.6         |\n",
    "| C6           | 1.2       | -        | 1.2        | -         | 1.8            | 1.8         |\n",
    "\n",
    "---\n",
    "## Model Formulation\n",
    "\n",
    "### Set & Indices\n",
    "\n",
    "$f \\in \\text{Factories}=\\{\\text{San Jose}, \\text{Oakland}\\}$\n",
    "\n",
    "$d \\in \\text{Depots}=\\{\\text{Palo Alto}, \\text{Fremont}, \\text{SF}, \\text{Santa Cruz}\\}$\n",
    "\n",
    "$c \\in \\text{Customers}=\\{\\text{C1}, \\text{C2}, \\text{C3}, \\text{C4}, \\text{C5}, \\text{C6}\\}$\n",
    "\n",
    "$\\text{Cities} = \\text{Factories} \\cup \\text{Depots} \\cup \\text{Customers}$\n",
    "\n",
    "### Parameters\n",
    "\n",
    "$\\text{cost}_{s,t} \\in \\mathbb{R}^+$: Cost of shipping one ton from source $s$ to destination $t$.\n",
    "\n",
    "$\\text{supply}_f \\in \\mathbb{R}^+$: Maximum possible supply from factory $f$ (in tons).\n",
    "\n",
    "$\\text{through}_d \\in \\mathbb{R}^+$: Maximum possible flow through depot $d$ (in tons).\n",
    "\n",
    "$\\text{demand}_c \\in \\mathbb{R}^+$: Demand for goods at customer $c$ (in tons).\n",
    "\n",
    "### Decision Variables\n",
    "\n",
    "$\\text{flow}_{s,t} \\in \\mathbb{N}^+$: Quantity of goods (in tons) that is shipped from source $s$ to destionation $t$.\n",
    "\n",
    "### Objective Function\n",
    "\n",
    "- **Cost**: Minimize total shipping costs.\n",
    "\n",
    "\\begin{equation}\n",
    "\\text{Minimize} \\quad Z = \\sum_{(s,t) \\in \\text{Cities} \\times \\text{Cities}}{\\text{cost}_{s,t}*\\text{flow}_{s,t}}\n",
    "\\end{equation}\n",
    "\n",
    "### Constraints\n",
    "\n",
    "- **Factory output**: Flow of goods from a factory must respect maximum capacity.\n",
    "\n",
    "\\begin{equation}\n",
    "\\sum_{t \\in \\text{Cities}}{\\text{flow}_{f,t}} \\leq \\text{supply}_{f} \\quad \\forall f \\in \\text{Factories}\n",
    "\\end{equation}\n",
    "\n",
    "- **Customer demand**: Flow of goods must meet customer demand.\n",
    "\n",
    "\\begin{equation}\n",
    "\\sum_{s \\in \\text{Cities}}{\\text{flow}_{s,c}} = \\text{demand}_{c} \\quad \\forall c \\in \\text{Customers}\n",
    "\\end{equation}\n",
    "\n",
    "- **Depot flow**: Flow into a depot equals flow out of the depot.\n",
    "\n",
    "\\begin{equation}\n",
    "\\sum_{s \\in \\text{Cities}}{\\text{flow}_{s,d}} = \n",
    "\\sum_{t \\in \\text{Cities}}{\\text{flow}_{d,t}}\n",
    "\\quad \\forall d \\in \\text{Depots}\n",
    "\\end{equation}\n",
    "\n",
    "- **Depot capacity**: Flow into a depot must respect depot capacity.\n",
    "\n",
    "\\begin{equation}\n",
    "\\sum_{s \\in \\text{Cities}}{\\text{flow}_{s,d}} \\leq \\text{through}_{d}\n",
    "\\quad \\forall d \\in \\text{Depots}\n",
    "\\end{equation}\n",
    "\n"
   ]
  },
  {
   "cell_type": "code",
   "execution_count": 6,
   "id": "5b9ce553-d4d8-4e4e-b82d-afa274d88774",
   "metadata": {},
   "outputs": [
    {
     "name": "stdout",
     "output_type": "stream",
     "text": [
      "Collecting gurobipy\n",
      "  Downloading gurobipy-12.0.3-cp313-cp313-macosx_10_13_universal2.whl.metadata (16 kB)\n",
      "Downloading gurobipy-12.0.3-cp313-cp313-macosx_10_13_universal2.whl (12.2 MB)\n",
      "\u001b[2K   \u001b[90m━━━━━━━━━━━━━━━━━━━━━━━━━━━━━━━━━━━━━━━━\u001b[0m \u001b[32m12.2/12.2 MB\u001b[0m \u001b[31m7.4 MB/s\u001b[0m eta \u001b[36m0:00:00\u001b[0ma \u001b[36m0:00:01\u001b[0m\n",
      "Installing collected packages: gurobipy\n",
      "Successfully installed gurobipy-12.0.3\n",
      "Note: you may need to restart the kernel to use updated packages.\n"
     ]
    }
   ],
   "source": [
    "pip install gurobipy"
   ]
  },
  {
   "cell_type": "code",
   "execution_count": 7,
   "id": "5c5ab7b5-70f8-4633-9423-f15051dcf57c",
   "metadata": {},
   "outputs": [],
   "source": [
    "import pandas as pd\n",
    "\n",
    "import gurobipy as gp\n",
    "from gurobipy import GRB"
   ]
  },
  {
   "cell_type": "code",
   "execution_count": 8,
   "id": "1b77abeb-013a-4478-86a1-72cb0b04e433",
   "metadata": {},
   "outputs": [],
   "source": [
    "# Dictionary to capture factory supply limits, depot throughput limits, and customer demand\n",
    "\n",
    "supply = dict({'San Jose': 160000,\n",
    "               'Oakland': 210000})\n",
    "\n",
    "through = dict({'Palo Alto': 75000,\n",
    "                'Fremont': 55000,\n",
    "                'San Francisco': 110000,\n",
    "                'Santa Cruz': 45000})\n",
    "\n",
    "demand = dict({'CU1': 60000,\n",
    "               'CU2': 15000,\n",
    "               'CU3': 45000,\n",
    "               'CU4': 30000,\n",
    "               'CU5': 65000,\n",
    "               'CU6': 25000})\n",
    "\n",
    "# Dictionary to capture shipping costs.\n",
    "\n",
    "arcs, cost = gp.multidict({\n",
    "    ('San Jose', 'Palo Alto'): 0.6,\n",
    "    ('San Jose', 'Fremont'): 0.6,\n",
    "    ('San Jose', 'San Francisco'): 1.2,\n",
    "    ('San Jose', 'Santa Cruz'): 0.24,\n",
    "    ('San Jose', 'CU1'): 1.2,\n",
    "    ('San Jose', 'CU3'): 1.8,\n",
    "    ('San Jose', 'CU4'): 2.4,\n",
    "    ('San Jose', 'CU6'): 1.2,\n",
    "    ('Oakland', 'Fremont'): 0.36,\n",
    "    ('Oakland', 'San Francisco'): 0.6,\n",
    "    ('Oakland', 'Santa Cruz'): 0.24,\n",
    "    ('Oakland', 'CU1'): 2.4,\n",
    "    ('Palo Alto', 'CU2'): 1.8,\n",
    "    ('Palo Alto', 'CU3'): 0.6,\n",
    "    ('Palo Alto', 'CU5'): 1.8,\n",
    "    ('Palo Alto', 'CU6'): 1.2,\n",
    "    ('Fremont', 'CU1'): 1.2,\n",
    "    ('Fremont', 'CU2'): 0.6,\n",
    "    ('Fremont', 'CU3'): 0.6,\n",
    "    ('Fremont', 'CU4'): 1.2,\n",
    "    ('Fremont', 'CU5'): 0.6,\n",
    "    ('San Francisco', 'CU2'): 1.8,\n",
    "    ('San Francisco', 'CU3'): 2.4,\n",
    "    ('San Francisco', 'CU5'): 0.6,\n",
    "    ('San Francisco', 'CU6'): 1.8,\n",
    "    ('Santa Cruz', 'CU3'): 0.24,\n",
    "    ('Santa Cruz', 'CU4'): 1.8,\n",
    "    ('Santa Cruz', 'CU5'): 0.6,\n",
    "    ('Santa Cruz', 'CU6'): 1.8\n",
    "})\n"
   ]
  },
  {
   "cell_type": "markdown",
   "id": "03b2762f-5324-4256-8129-506f1fdc5a2b",
   "metadata": {},
   "source": [
    "## Model Deployment\n",
    "\n",
    "We build an optimization model to simulate how products move through the network. Each variable tracks the volume shipped between connected locations. Because shipping costs are already tied to these flows, the model automatically minimizes total transportation cost.\n"
   ]
  },
  {
   "cell_type": "code",
   "execution_count": 9,
   "id": "5f981442-b232-4378-b1d3-cbec9d19e3db",
   "metadata": {},
   "outputs": [
    {
     "name": "stdout",
     "output_type": "stream",
     "text": [
      "Restricted license - for non-production use only - expires 2026-11-23\n"
     ]
    }
   ],
   "source": [
    "model = gp.Model('SupplyNetworkDesign')\n",
    "flow = model.addVars(arcs, obj=cost, name=\"flow\")"
   ]
  },
  {
   "cell_type": "markdown",
   "id": "c3a4badf-f020-48f7-b41c-bb17bf536b60",
   "metadata": {},
   "source": [
    "Our first constraints require the total flow along arcs leaving a factory to be at most as large as the supply capacity of that factory."
   ]
  },
  {
   "cell_type": "code",
   "execution_count": 10,
   "id": "287a0220-7d56-4716-bbc6-0c771003564e",
   "metadata": {},
   "outputs": [],
   "source": [
    "# Production capacity limits\n",
    "\n",
    "factories = supply.keys()\n",
    "factory_flow = model.addConstrs((gp.quicksum(flow.select(factory, '*')) <= supply[factory]\n",
    "                                 for factory in factories), name=\"factory\")"
   ]
  },
  {
   "cell_type": "markdown",
   "id": "10891759-3189-4613-b783-eed671ab3be8",
   "metadata": {},
   "source": [
    "Our next constraints require the total flow along arcs entering a customer to be equal to the demand from that customer."
   ]
  },
  {
   "cell_type": "code",
   "execution_count": 11,
   "id": "d2f023e5-c7af-4571-9a6d-4589a1fcf844",
   "metadata": {},
   "outputs": [],
   "source": [
    "# Customer demand\n",
    "\n",
    "customers = demand.keys()\n",
    "customer_flow = model.addConstrs((gp.quicksum(flow.select('*', customer)) == demand[customer]\n",
    "                                  for customer in customers), name=\"customer\")"
   ]
  },
  {
   "cell_type": "markdown",
   "id": "c3eb8b97-7a8f-4403-bd53-d12174668bff",
   "metadata": {},
   "source": [
    "Our final constraints relate to depots.  The first constraints require that the total amount of product entering the depot must equal the total amount leaving."
   ]
  },
  {
   "cell_type": "code",
   "execution_count": 12,
   "id": "07c2effc-f8aa-4f04-8630-93e77767e00a",
   "metadata": {},
   "outputs": [],
   "source": [
    "# Depot flow conservation\n",
    "\n",
    "depots = through.keys()\n",
    "depot_flow = model.addConstrs((gp.quicksum(flow.select(depot, '*')) == gp.quicksum(flow.select('*', depot))\n",
    "                               for depot in depots), name=\"depot\")"
   ]
  },
  {
   "cell_type": "markdown",
   "id": "8d115a45-33f6-4a01-95e1-e5eba8f2a8de",
   "metadata": {},
   "source": [
    "The second set limits the product passing through the depot to be at most equal the throughput of that deport."
   ]
  },
  {
   "cell_type": "code",
   "execution_count": 13,
   "id": "a3f78beb-2a36-43e7-8691-b47c470ef5eb",
   "metadata": {},
   "outputs": [],
   "source": [
    "# Depot throughput\n",
    "\n",
    "depot_capacity = model.addConstrs((gp.quicksum(flow.select('*', depot)) <= through[depot]\n",
    "                                   for depot in depots), name=\"depot_capacity\")"
   ]
  },
  {
   "cell_type": "code",
   "execution_count": 15,
   "id": "1c69bcee-5787-4432-ab3c-bbe29b3b64e4",
   "metadata": {},
   "outputs": [
    {
     "name": "stdout",
     "output_type": "stream",
     "text": [
      "Gurobi Optimizer version 12.0.3 build v12.0.3rc0 (mac64[x86] - Darwin 24.6.0 24G90)\n",
      "\n",
      "CPU model: Intel(R) Core(TM) i9-9880H CPU @ 2.30GHz\n",
      "Thread count: 8 physical cores, 16 logical processors, using up to 16 threads\n",
      "\n",
      "Optimize a model with 16 rows, 29 columns and 65 nonzeros\n",
      "Model fingerprint: 0x356efb52\n",
      "Coefficient statistics:\n",
      "  Matrix range     [1e+00, 1e+00]\n",
      "  Objective range  [2e-01, 2e+00]\n",
      "  Bounds range     [0e+00, 0e+00]\n",
      "  RHS range        [2e+04, 2e+05]\n",
      "Presolve removed 1 rows and 0 columns\n",
      "Presolve time: 0.01s\n",
      "Presolved: 15 rows, 29 columns, 64 nonzeros\n",
      "\n",
      "Iteration    Objective       Primal Inf.    Dual Inf.      Time\n",
      "       0    1.9680000e+05   1.937500e+04   0.000000e+00      0s\n",
      "       8    2.6040000e+05   0.000000e+00   0.000000e+00      0s\n",
      "\n",
      "Solved in 8 iterations and 0.01 seconds (0.00 work units)\n",
      "Optimal objective  2.604000000e+05\n"
     ]
    }
   ],
   "source": [
    "model.optimize()"
   ]
  },
  {
   "cell_type": "markdown",
   "id": "3ad087d7-011e-40ff-b8d2-ae9f91092418",
   "metadata": {},
   "source": [
    "---\n",
    "## Analysis\n",
    "\n",
    "Product demand from all of our customers can be satisfied for a total cost of $\\$260,040$. The optimal plan is as follows."
   ]
  },
  {
   "cell_type": "code",
   "execution_count": 18,
   "id": "dc64b797-5351-4662-b795-898f27a4a2d9",
   "metadata": {},
   "outputs": [
    {
     "data": {
      "text/html": [
       "<div>\n",
       "<style scoped>\n",
       "    .dataframe tbody tr th:only-of-type {\n",
       "        vertical-align: middle;\n",
       "    }\n",
       "\n",
       "    .dataframe tbody tr th {\n",
       "        vertical-align: top;\n",
       "    }\n",
       "\n",
       "    .dataframe thead th {\n",
       "        text-align: right;\n",
       "    }\n",
       "</style>\n",
       "<table border=\"1\" class=\"dataframe\">\n",
       "  <thead>\n",
       "    <tr style=\"text-align: right;\">\n",
       "      <th></th>\n",
       "      <th>From</th>\n",
       "      <th>To</th>\n",
       "      <th>Flow</th>\n",
       "    </tr>\n",
       "  </thead>\n",
       "  <tbody>\n",
       "    <tr>\n",
       "      <th></th>\n",
       "      <td>San Jose</td>\n",
       "      <td>CU1</td>\n",
       "      <td>60000.0</td>\n",
       "    </tr>\n",
       "    <tr>\n",
       "      <th></th>\n",
       "      <td>San Jose</td>\n",
       "      <td>CU6</td>\n",
       "      <td>25000.0</td>\n",
       "    </tr>\n",
       "    <tr>\n",
       "      <th></th>\n",
       "      <td>Oakland</td>\n",
       "      <td>Fremont</td>\n",
       "      <td>55000.0</td>\n",
       "    </tr>\n",
       "    <tr>\n",
       "      <th></th>\n",
       "      <td>Oakland</td>\n",
       "      <td>San Francisco</td>\n",
       "      <td>55000.0</td>\n",
       "    </tr>\n",
       "    <tr>\n",
       "      <th></th>\n",
       "      <td>Oakland</td>\n",
       "      <td>Santa Cruz</td>\n",
       "      <td>45000.0</td>\n",
       "    </tr>\n",
       "    <tr>\n",
       "      <th></th>\n",
       "      <td>Fremont</td>\n",
       "      <td>CU2</td>\n",
       "      <td>15000.0</td>\n",
       "    </tr>\n",
       "    <tr>\n",
       "      <th></th>\n",
       "      <td>Fremont</td>\n",
       "      <td>CU4</td>\n",
       "      <td>30000.0</td>\n",
       "    </tr>\n",
       "    <tr>\n",
       "      <th></th>\n",
       "      <td>Fremont</td>\n",
       "      <td>CU5</td>\n",
       "      <td>10000.0</td>\n",
       "    </tr>\n",
       "    <tr>\n",
       "      <th></th>\n",
       "      <td>San Francisco</td>\n",
       "      <td>CU5</td>\n",
       "      <td>55000.0</td>\n",
       "    </tr>\n",
       "    <tr>\n",
       "      <th></th>\n",
       "      <td>Santa Cruz</td>\n",
       "      <td>CU3</td>\n",
       "      <td>45000.0</td>\n",
       "    </tr>\n",
       "  </tbody>\n",
       "</table>\n",
       "</div>"
      ],
      "text/plain": [
       "           From             To     Flow\n",
       "       San Jose            CU1  60000.0\n",
       "       San Jose            CU6  25000.0\n",
       "        Oakland        Fremont  55000.0\n",
       "        Oakland  San Francisco  55000.0\n",
       "        Oakland     Santa Cruz  45000.0\n",
       "        Fremont            CU2  15000.0\n",
       "        Fremont            CU4  30000.0\n",
       "        Fremont            CU5  10000.0\n",
       "  San Francisco            CU5  55000.0\n",
       "     Santa Cruz            CU3  45000.0"
      ]
     },
     "execution_count": 18,
     "metadata": {},
     "output_type": "execute_result"
    }
   ],
   "source": [
    "rows = []\n",
    "for arc in arcs:\n",
    "    if flow[arc].x > 1e-6:\n",
    "        rows.append({\"From\": arc[0], \"To\": arc[1], \"Flow\": flow[arc].x})\n",
    "\n",
    "product_flow = pd.DataFrame(rows, columns=[\"From\", \"To\", \"Flow\"])\n",
    "\n",
    "# optional: set blank index like you had before\n",
    "if len(product_flow):\n",
    "    product_flow.index = [''] * len(product_flow)\n",
    "\n",
    "product_flow\n"
   ]
  },
  {
   "cell_type": "code",
   "execution_count": null,
   "id": "9265dcd6-5144-45b4-9657-7ee232fe7205",
   "metadata": {},
   "outputs": [],
   "source": []
  }
 ],
 "metadata": {
  "kernelspec": {
   "display_name": "Python [conda env:base] *",
   "language": "python",
   "name": "conda-base-py"
  },
  "language_info": {
   "codemirror_mode": {
    "name": "ipython",
    "version": 3
   },
   "file_extension": ".py",
   "mimetype": "text/x-python",
   "name": "python",
   "nbconvert_exporter": "python",
   "pygments_lexer": "ipython3",
   "version": "3.13.5"
  }
 },
 "nbformat": 4,
 "nbformat_minor": 5
}
